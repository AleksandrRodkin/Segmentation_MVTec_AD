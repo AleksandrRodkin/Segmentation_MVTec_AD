{
 "cells": [
  {
   "cell_type": "code",
   "execution_count": null,
   "id": "3b5e6ddb-40b5-45d2-8e0c-fa6d00e35dfb",
   "metadata": {},
   "outputs": [],
   "source": []
  }
 ],
 "metadata": {
  "kernelspec": {
   "display_name": "Segmentation venv",
   "language": "python",
   "name": "segmentation_venv"
  },
  "language_info": {
   "codemirror_mode": {
    "name": "ipython",
    "version": 3
   },
   "file_extension": ".py",
   "mimetype": "text/x-python",
   "name": "python",
   "nbconvert_exporter": "python",
   "pygments_lexer": "ipython3",
   "version": "3.13.5"
  }
 },
 "nbformat": 4,
 "nbformat_minor": 5
}
